{
  "nbformat": 4,
  "nbformat_minor": 0,
  "metadata": {
    "colab": {
      "provenance": [],
      "authorship_tag": "ABX9TyNxy645NcAIf0qHDlB79aKP",
      "include_colab_link": true
    },
    "kernelspec": {
      "name": "python3",
      "display_name": "Python 3"
    },
    "language_info": {
      "name": "python"
    }
  },
  "cells": [
    {
      "cell_type": "markdown",
      "metadata": {
        "id": "view-in-github",
        "colab_type": "text"
      },
      "source": [
        "<a href=\"https://colab.research.google.com/github/Tmaneesh19/Age_calculator/blob/main/chatBot.ipynb\" target=\"_parent\"><img src=\"https://colab.research.google.com/assets/colab-badge.svg\" alt=\"Open In Colab\"/></a>"
      ]
    },
    {
      "cell_type": "code",
      "execution_count": 1,
      "metadata": {
        "colab": {
          "base_uri": "https://localhost:8080/"
        },
        "id": "YPaGCTrPM48O",
        "outputId": "0f8e6672-72ae-4e97-aeab-b30270b6a388"
      },
      "outputs": [
        {
          "output_type": "stream",
          "name": "stdout",
          "text": [
            "Requirement already satisfied: nltk in /usr/local/lib/python3.10/dist-packages (3.9.1)\n",
            "Requirement already satisfied: click in /usr/local/lib/python3.10/dist-packages (from nltk) (8.1.7)\n",
            "Requirement already satisfied: joblib in /usr/local/lib/python3.10/dist-packages (from nltk) (1.4.2)\n",
            "Requirement already satisfied: regex>=2021.8.3 in /usr/local/lib/python3.10/dist-packages (from nltk) (2024.9.11)\n",
            "Requirement already satisfied: tqdm in /usr/local/lib/python3.10/dist-packages (from nltk) (4.66.6)\n"
          ]
        },
        {
          "output_type": "stream",
          "name": "stderr",
          "text": [
            "[nltk_data] Downloading package vader_lexicon to /root/nltk_data...\n"
          ]
        },
        {
          "output_type": "execute_result",
          "data": {
            "text/plain": [
              "True"
            ]
          },
          "metadata": {},
          "execution_count": 1
        }
      ],
      "source": [
        "!pip install nltk\n",
        "import nltk\n",
        "nltk.download('vader_lexicon')\n"
      ]
    },
    {
      "cell_type": "code",
      "source": [
        "import time\n",
        "from nltk.sentiment import SentimentIntensityAnalyzer\n",
        "\n",
        "# Initialize the Sentiment Analyzer\n",
        "sia = SentimentIntensityAnalyzer()\n",
        "\n",
        "# Function to analyze sentiment\n",
        "def analyze_sentiment(user_input):\n",
        "    score = sia.polarity_scores(user_input)\n",
        "    if score['compound'] > 0:\n",
        "        return \"Positive\"\n",
        "    elif score['compound'] < 0:\n",
        "        return \"Negative\"\n",
        "    else:\n",
        "        return \"Neutral\"\n",
        "\n",
        "# Sample chatbot conversation\n",
        "def chatbot_analysis():\n",
        "    print(\"Chatbot: Hello! How can I help you today?\")\n",
        "\n",
        "    user_input = input(\"User: \")\n",
        "    start_time = time.time()  # Record response start time\n",
        "\n",
        "    # Example chatbot response (Replace this with actual chatbot logic)\n",
        "    chatbot_response = \"I'm here to help you with your questions.\"\n",
        "\n",
        "    end_time = time.time()  # Record response end time\n",
        "    response_time = round(end_time - start_time, 2)\n",
        "\n",
        "    # Analyze sentiment\n",
        "    sentiment = analyze_sentiment(user_input)\n",
        "\n",
        "    # Output analysis\n",
        "    print(\"\\nAnalysis:\")\n",
        "    print(f\"User Input: {user_input}\")\n",
        "    print(f\"Chatbot Response: {chatbot_response}\")\n",
        "    print(f\"Response Time: {response_time} seconds\")\n",
        "    print(f\"User Sentiment: {sentiment}\")\n",
        "\n",
        "# Run the chatbot analysis\n",
        "chatbot_analysis()\n"
      ],
      "metadata": {
        "colab": {
          "base_uri": "https://localhost:8080/"
        },
        "id": "CZUxsJ-iNJFC",
        "outputId": "c49bbc5e-4e8e-444e-f645-62efc4dca5fe"
      },
      "execution_count": 2,
      "outputs": [
        {
          "output_type": "stream",
          "name": "stdout",
          "text": [
            "Chatbot: Hello! How can I help you today?\n",
            "User: i love coding\n",
            "\n",
            "Analysis:\n",
            "User Input: i love coding\n",
            "Chatbot Response: I'm here to help you with your questions.\n",
            "Response Time: 0.0 seconds\n",
            "User Sentiment: Positive\n"
          ]
        }
      ]
    }
  ]
}